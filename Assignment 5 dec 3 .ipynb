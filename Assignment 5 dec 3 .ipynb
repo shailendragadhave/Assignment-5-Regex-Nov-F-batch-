{
 "cells": [
  {
   "cell_type": "code",
   "execution_count": 2,
   "id": "2a42e378",
   "metadata": {},
   "outputs": [
    {
     "name": "stdout",
     "output_type": "stream",
     "text": [
      "PYTHON IS OOPS LANGUAGE I'AM PYTHON DEVELOPER I LOVE PYTHON\n"
     ]
    }
   ],
   "source": [
    "# Assign -1 \n",
    "str1 = \"\"\"JAVA IS OOPS LANGUAGE I'AM JAVA DEVELOPER I LOVE JAVA\"\"\"\n",
    "str2 = str1.replace(\"JAVA\", \"PYTHON\")\n",
    "# REPLACING LAST JAVA WITH PYTHON\n",
    "print(str2)\n"
   ]
  },
  {
   "cell_type": "code",
   "execution_count": 3,
   "id": "cfebc91e",
   "metadata": {},
   "outputs": [
    {
     "name": "stdout",
     "output_type": "stream",
     "text": [
      "JAVA IS OOPS LANGUAGE I'AM JAVA DEVELOPER I LOVE PYTHON\n"
     ]
    }
   ],
   "source": [
    "# replacing last java only with python\n",
    "str2 = str1.replace(\"LOVE JAVA\", \"LOVE PYTHON\")\n",
    "print(str2)"
   ]
  },
  {
   "cell_type": "code",
   "execution_count": 4,
   "id": "00888e7c",
   "metadata": {},
   "outputs": [
    {
     "name": "stdout",
     "output_type": "stream",
     "text": [
      "20.45\n",
      "<class 'str'>\n"
     ]
    }
   ],
   "source": [
    "# Assign -2 \n",
    "str3 = \"20.45\"\n",
    "print(str3)\n",
    "print(type(str3))"
   ]
  },
  {
   "cell_type": "code",
   "execution_count": 5,
   "id": "11eddcdd",
   "metadata": {},
   "outputs": [
    {
     "name": "stdout",
     "output_type": "stream",
     "text": [
      "20.45\n",
      "<class 'str'>\n"
     ]
    }
   ],
   "source": [
    "a = \"20.45\"\n",
    "print(a)\n",
    "print(type(a))# type is string and not float"
   ]
  },
  {
   "cell_type": "code",
   "execution_count": 6,
   "id": "79d28d14",
   "metadata": {},
   "outputs": [
    {
     "name": "stdout",
     "output_type": "stream",
     "text": [
      "False\n"
     ]
    }
   ],
   "source": [
    "print(a.isdigit())"
   ]
  },
  {
   "cell_type": "code",
   "execution_count": 7,
   "id": "745ec802",
   "metadata": {},
   "outputs": [
    {
     "name": "stdout",
     "output_type": "stream",
     "text": [
      "3 38478 9897654972\n"
     ]
    }
   ],
   "source": [
    "#Assign- 3 \n",
    "c = \"I'm staying in road number 3, and 38478 my contact number is 9897654972\"\n",
    "b = c[27:28:1]\n",
    "d = c[34:39:1]\n",
    "e = c[61:71:1]\n",
    "print(b, d, e)"
   ]
  },
  {
   "cell_type": "code",
   "execution_count": null,
   "id": "4502682c",
   "metadata": {},
   "outputs": [],
   "source": []
  }
 ],
 "metadata": {
  "kernelspec": {
   "display_name": "Python 3",
   "language": "python",
   "name": "python3"
  },
  "language_info": {
   "codemirror_mode": {
    "name": "ipython",
    "version": 3
   },
   "file_extension": ".py",
   "mimetype": "text/x-python",
   "name": "python",
   "nbconvert_exporter": "python",
   "pygments_lexer": "ipython3",
   "version": "3.8.8"
  }
 },
 "nbformat": 4,
 "nbformat_minor": 5
}
